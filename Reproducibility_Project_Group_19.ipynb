{
  "cells": [
    {
      "cell_type": "markdown",
      "metadata": {
        "id": "HglNGu-WpE6y"
      },
      "source": [
        "**Paper Reproduction :**\n",
        "<br>\n",
        "[Driver Identification Based on Vehicle Telematics Data using LSTM-Recurrent\n",
        "Neural Network](https://ieeexplore-ieee-org.tudelft.idm.oclc.org/stamp/stamp.jsp?tp=&arnumber=8995202)\n"
      ]
    },
    {
      "cell_type": "markdown",
      "metadata": {
        "id": "3aBYUaQ6pMA9"
      },
      "source": [
        "Cloning the repo"
      ]
    },
    {
      "cell_type": "code",
      "execution_count": null,
      "metadata": {
        "colab": {
          "base_uri": "https://localhost:8080/"
        },
        "id": "O3IeYswYo9HU",
        "outputId": "190ab2de-10fe-46b8-b012-3c69e7b678cb"
      },
      "outputs": [
        {
          "output_type": "stream",
          "name": "stdout",
          "text": [
            "fatal: destination path 'Deep-LSTM-for-Driver-Identification-' already exists and is not an empty directory.\n"
          ]
        }
      ],
      "source": [
        "!git clone https://github.com/Abeni18/Deep-LSTM-for-Driver-Identification-.git"
      ]
    },
    {
      "cell_type": "code",
      "execution_count": null,
      "metadata": {
        "id": "F_sc01p7pPNW",
        "colab": {
          "base_uri": "https://localhost:8080/"
        },
        "outputId": "1ac3535a-7b17-4e33-fe9f-66d1f90c77e0"
      },
      "outputs": [
        {
          "output_type": "stream",
          "name": "stdout",
          "text": [
            "/content\n"
          ]
        }
      ],
      "source": [
        "!pwd"
      ]
    },
    {
      "cell_type": "code",
      "source": [
        "# from google.colab import drive\n",
        "# drive.mount('/content/drive')"
      ],
      "metadata": {
        "id": "tiwPaAjcwlbv"
      },
      "execution_count": null,
      "outputs": []
    },
    {
      "cell_type": "code",
      "execution_count": null,
      "metadata": {
        "id": "Fg9udTDargp1"
      },
      "outputs": [],
      "source": [
        "!cd /content/Deep-LSTM-for-Driver-Identification-/"
      ]
    },
    {
      "cell_type": "markdown",
      "metadata": {
        "id": "0GKhlJqqszp8"
      },
      "source": [
        "Uploading data - stored locally"
      ]
    },
    {
      "cell_type": "markdown",
      "metadata": {
        "id": "KXKDyqB1NXFC"
      },
      "source": [
        "## **Security Driving Dataset**"
      ]
    },
    {
      "cell_type": "code",
      "execution_count": null,
      "metadata": {
        "colab": {
          "base_uri": "https://localhost:8080/",
          "height": 349,
          "resources": {
            "http://localhost:8080/nbextensions/google.colab/files.js": {
              "data": "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",
              "headers": [
                [
                  "content-type",
                  "application/javascript"
                ]
              ],
              "ok": true,
              "status": 200,
              "status_text": ""
            }
          }
        },
        "id": "zNIG6vwdszFY",
        "outputId": "e0223ac5-be99-4b61-f17b-76b8b5a1ff91"
      },
      "outputs": [
        {
          "data": {
            "text/html": [
              "\n",
              "     <input type=\"file\" id=\"files-cf1d449c-dbc7-4d51-a13b-e6f720f6cbc7\" name=\"files[]\" multiple disabled\n",
              "        style=\"border:none\" />\n",
              "     <output id=\"result-cf1d449c-dbc7-4d51-a13b-e6f720f6cbc7\">\n",
              "      Upload widget is only available when the cell has been executed in the\n",
              "      current browser session. Please rerun this cell to enable.\n",
              "      </output>\n",
              "      <script src=\"/nbextensions/google.colab/files.js\"></script> "
            ],
            "text/plain": [
              "<IPython.core.display.HTML object>"
            ]
          },
          "metadata": {},
          "output_type": "display_data"
        },
        {
          "output_type": "error",
          "ename": "KeyboardInterrupt",
          "evalue": "ignored",
          "traceback": [
            "\u001b[0;31m---------------------------------------------------------------------------\u001b[0m",
            "\u001b[0;31mKeyboardInterrupt\u001b[0m                         Traceback (most recent call last)",
            "\u001b[0;32m<ipython-input-5-8840637f35b5>\u001b[0m in \u001b[0;36m<module>\u001b[0;34m()\u001b[0m\n\u001b[1;32m      1\u001b[0m \u001b[0;32mfrom\u001b[0m \u001b[0mgoogle\u001b[0m\u001b[0;34m.\u001b[0m\u001b[0mcolab\u001b[0m \u001b[0;32mimport\u001b[0m \u001b[0mfiles\u001b[0m\u001b[0;34m\u001b[0m\u001b[0;34m\u001b[0m\u001b[0m\n\u001b[0;32m----> 2\u001b[0;31m \u001b[0muploaded\u001b[0m \u001b[0;34m=\u001b[0m \u001b[0mfiles\u001b[0m\u001b[0;34m.\u001b[0m\u001b[0mupload\u001b[0m\u001b[0;34m(\u001b[0m\u001b[0;34m)\u001b[0m \u001b[0;31m#uploading the KIA Soul dataset and VehicularDataset\u001b[0m\u001b[0;34m\u001b[0m\u001b[0;34m\u001b[0m\u001b[0m\n\u001b[0m",
            "\u001b[0;32m/usr/local/lib/python3.7/dist-packages/google/colab/files.py\u001b[0m in \u001b[0;36mupload\u001b[0;34m()\u001b[0m\n\u001b[1;32m     44\u001b[0m   \"\"\"\n\u001b[1;32m     45\u001b[0m \u001b[0;34m\u001b[0m\u001b[0m\n\u001b[0;32m---> 46\u001b[0;31m   \u001b[0muploaded_files\u001b[0m \u001b[0;34m=\u001b[0m \u001b[0m_upload_files\u001b[0m\u001b[0;34m(\u001b[0m\u001b[0mmultiple\u001b[0m\u001b[0;34m=\u001b[0m\u001b[0;32mTrue\u001b[0m\u001b[0;34m)\u001b[0m\u001b[0;34m\u001b[0m\u001b[0;34m\u001b[0m\u001b[0m\n\u001b[0m\u001b[1;32m     47\u001b[0m   \u001b[0;31m# Mapping from original filename to filename as saved locally.\u001b[0m\u001b[0;34m\u001b[0m\u001b[0;34m\u001b[0m\u001b[0;34m\u001b[0m\u001b[0m\n\u001b[1;32m     48\u001b[0m   \u001b[0mlocal_filenames\u001b[0m \u001b[0;34m=\u001b[0m \u001b[0mdict\u001b[0m\u001b[0;34m(\u001b[0m\u001b[0;34m)\u001b[0m\u001b[0;34m\u001b[0m\u001b[0;34m\u001b[0m\u001b[0m\n",
            "\u001b[0;32m/usr/local/lib/python3.7/dist-packages/google/colab/files.py\u001b[0m in \u001b[0;36m_upload_files\u001b[0;34m(multiple)\u001b[0m\n\u001b[1;32m    127\u001b[0m     result = _output.eval_js(\n\u001b[1;32m    128\u001b[0m         'google.colab._files._uploadFilesContinue(\"{output_id}\")'.format(\n\u001b[0;32m--> 129\u001b[0;31m             output_id=output_id))\n\u001b[0m\u001b[1;32m    130\u001b[0m     \u001b[0;32mif\u001b[0m \u001b[0mresult\u001b[0m\u001b[0;34m[\u001b[0m\u001b[0;34m'action'\u001b[0m\u001b[0;34m]\u001b[0m \u001b[0;34m!=\u001b[0m \u001b[0;34m'append'\u001b[0m\u001b[0;34m:\u001b[0m\u001b[0;34m\u001b[0m\u001b[0;34m\u001b[0m\u001b[0m\n\u001b[1;32m    131\u001b[0m       \u001b[0;31m# JS side uses a generator of promises to process all of the files- some\u001b[0m\u001b[0;34m\u001b[0m\u001b[0;34m\u001b[0m\u001b[0;34m\u001b[0m\u001b[0m\n",
            "\u001b[0;32m/usr/local/lib/python3.7/dist-packages/google/colab/output/_js.py\u001b[0m in \u001b[0;36meval_js\u001b[0;34m(script, ignore_result, timeout_sec)\u001b[0m\n\u001b[1;32m     38\u001b[0m   \u001b[0;32mif\u001b[0m \u001b[0mignore_result\u001b[0m\u001b[0;34m:\u001b[0m\u001b[0;34m\u001b[0m\u001b[0;34m\u001b[0m\u001b[0m\n\u001b[1;32m     39\u001b[0m     \u001b[0;32mreturn\u001b[0m\u001b[0;34m\u001b[0m\u001b[0;34m\u001b[0m\u001b[0m\n\u001b[0;32m---> 40\u001b[0;31m   \u001b[0;32mreturn\u001b[0m \u001b[0m_message\u001b[0m\u001b[0;34m.\u001b[0m\u001b[0mread_reply_from_input\u001b[0m\u001b[0;34m(\u001b[0m\u001b[0mrequest_id\u001b[0m\u001b[0;34m,\u001b[0m \u001b[0mtimeout_sec\u001b[0m\u001b[0;34m)\u001b[0m\u001b[0;34m\u001b[0m\u001b[0;34m\u001b[0m\u001b[0m\n\u001b[0m\u001b[1;32m     41\u001b[0m \u001b[0;34m\u001b[0m\u001b[0m\n\u001b[1;32m     42\u001b[0m \u001b[0;34m\u001b[0m\u001b[0m\n",
            "\u001b[0;32m/usr/local/lib/python3.7/dist-packages/google/colab/_message.py\u001b[0m in \u001b[0;36mread_reply_from_input\u001b[0;34m(message_id, timeout_sec)\u001b[0m\n\u001b[1;32m     99\u001b[0m     \u001b[0mreply\u001b[0m \u001b[0;34m=\u001b[0m \u001b[0m_read_next_input_message\u001b[0m\u001b[0;34m(\u001b[0m\u001b[0;34m)\u001b[0m\u001b[0;34m\u001b[0m\u001b[0;34m\u001b[0m\u001b[0m\n\u001b[1;32m    100\u001b[0m     \u001b[0;32mif\u001b[0m \u001b[0mreply\u001b[0m \u001b[0;34m==\u001b[0m \u001b[0m_NOT_READY\u001b[0m \u001b[0;32mor\u001b[0m \u001b[0;32mnot\u001b[0m \u001b[0misinstance\u001b[0m\u001b[0;34m(\u001b[0m\u001b[0mreply\u001b[0m\u001b[0;34m,\u001b[0m \u001b[0mdict\u001b[0m\u001b[0;34m)\u001b[0m\u001b[0;34m:\u001b[0m\u001b[0;34m\u001b[0m\u001b[0;34m\u001b[0m\u001b[0m\n\u001b[0;32m--> 101\u001b[0;31m       \u001b[0mtime\u001b[0m\u001b[0;34m.\u001b[0m\u001b[0msleep\u001b[0m\u001b[0;34m(\u001b[0m\u001b[0;36m0.025\u001b[0m\u001b[0;34m)\u001b[0m\u001b[0;34m\u001b[0m\u001b[0;34m\u001b[0m\u001b[0m\n\u001b[0m\u001b[1;32m    102\u001b[0m       \u001b[0;32mcontinue\u001b[0m\u001b[0;34m\u001b[0m\u001b[0;34m\u001b[0m\u001b[0m\n\u001b[1;32m    103\u001b[0m     if (reply.get('type') == 'colab_reply' and\n",
            "\u001b[0;31mKeyboardInterrupt\u001b[0m: "
          ]
        }
      ],
      "source": [
        "from google.colab import files\n",
        "uploaded = files.upload() #uploading the KIA Soul dataset and VehicularDataset"
      ]
    },
    {
      "cell_type": "code",
      "execution_count": null,
      "metadata": {
        "id": "Vh3lv4t_rm1y"
      },
      "outputs": [],
      "source": [
        "# Importing the libraries\n",
        "import os\n",
        "os.environ['CUDA_VISIBLE_DEVICES'] = '-1'\n",
        "import pandas as pd\n",
        "import numpy as np\n",
        "import matplotlib as mpl\n",
        "import matplotlib.pyplot as plt\n",
        "mpl.style.use('ggplot')\n",
        "import os\n",
        "import tensorflow as tf\n",
        "from tensorflow.python.client import device_lib\n",
        "from keras.models import load_model\n",
        "from sklearn.preprocessing import StandardScaler"
      ]
    },
    {
      "cell_type": "markdown",
      "metadata": {
        "id": "XdiR-q5FttNP"
      },
      "source": [
        "The researchers have recorded data for 10 drivers (Class - A to J) <br> \n",
        "Description about the KIA Soul Dataset can be found here: [Section-4](https://arxiv.org/pdf/1704.05223.pdf)<br>\n"
      ]
    },
    {
      "cell_type": "code",
      "execution_count": null,
      "metadata": {
        "id": "87ADMoIAuIhB",
        "colab": {
          "base_uri": "https://localhost:8080/"
        },
        "outputId": "ca9a8e4a-5bb8-46d1-daf4-b0172e02bbdc"
      },
      "outputs": [
        {
          "output_type": "execute_result",
          "data": {
            "text/plain": [
              "(94380, 54)"
            ]
          },
          "metadata": {},
          "execution_count": 43
        }
      ],
      "source": [
        "# 'Read the file'\n",
        "df= pd.read_csv('/content/Deep-LSTM-for-Driver-Identification-/Driving Data(KIA SOUL)_(150728-160714)_(10 Drivers_A-J) (1).csv')\n",
        "df.head()\n",
        "df.shape"
      ]
    },
    {
      "cell_type": "code",
      "execution_count": null,
      "metadata": {
        "id": "qsyxS7AeuSC1",
        "colab": {
          "base_uri": "https://localhost:8080/",
          "height": 317
        },
        "outputId": "1f786f63-279a-454d-ba1e-96fb4cc75ba3"
      },
      "outputs": [
        {
          "output_type": "execute_result",
          "data": {
            "text/plain": [
              "Text(0.5, 0, 'Classes')"
            ]
          },
          "metadata": {},
          "execution_count": 44
        },
        {
          "output_type": "display_data",
          "data": {
            "text/plain": [
              "<Figure size 432x288 with 1 Axes>"
            ],
            "image/png": "[encoded data removed]"
          },
          "metadata": {}
        }
      ],
      "source": [
        "# Visualizing Number of Data Points per Class\n",
        "df['Class'].value_counts().plot(kind='bar', title='Number of data point per class')\n",
        "plt.ylabel('Data Points')\n",
        "plt.xlabel('Classes')"
      ]
    },
    {
      "cell_type": "code",
      "execution_count": null,
      "metadata": {
        "id": "u9qIqkKJufkj"
      },
      "outputs": [],
      "source": [
        "def pre_process_encoder(df):\n",
        "\n",
        "    'Features and label'\n",
        "    X = df.drop('Class',1)\n",
        "    y = df.Class  #Class -> Driver ID\n",
        "   \n",
        "    if \"Car_Id\" in X.columns:\n",
        "        X.drop('Car_Id', axis=1, inplace=True)\n",
        "    if 'Trip'in X.columns:\n",
        "        X.drop('Trip', axis=1, inplace=True)\n",
        "        \n",
        "    return X,y"
      ]
    },
    {
      "cell_type": "code",
      "execution_count": null,
      "metadata": {
        "id": "WaNkq_l2yubB",
        "colab": {
          "base_uri": "https://localhost:8080/"
        },
        "outputId": "a2984165-106a-48f2-d33a-88792756be62"
      },
      "outputs": [
        {
          "output_type": "stream",
          "name": "stdout",
          "text": [
            "0        A\n",
            "1        A\n",
            "2        A\n",
            "3        A\n",
            "4        A\n",
            "        ..\n",
            "94375    D\n",
            "94376    D\n",
            "94377    D\n",
            "94378    D\n",
            "94379    D\n",
            "Name: Class, Length: 94380, dtype: object\n"
          ]
        },
        {
          "output_type": "stream",
          "name": "stderr",
          "text": [
            "/usr/local/lib/python3.7/dist-packages/ipykernel_launcher.py:4: FutureWarning: In a future version of pandas all arguments of DataFrame.drop except for the argument 'labels' will be keyword-only\n",
            "  after removing the cwd from sys.path.\n"
          ]
        }
      ],
      "source": [
        "X, y = pre_process_encoder(df)\n",
        "print(y)"
      ]
    },
    {
      "cell_type": "code",
      "execution_count": null,
      "metadata": {
        "id": "TxUGClk655gp"
      },
      "outputs": [],
      "source": [
        "#'Split the data set into window samples'\n",
        "from sklearn.preprocessing import LabelEncoder\n",
        "def window(X1, y1):\n",
        "    X_samples = []\n",
        "    y_samples = []\n",
        "    \n",
        "     \n",
        "    encoder = LabelEncoder()\n",
        "    encoder.fit(y1)\n",
        "    y1 = encoder.transform(y1)\n",
        "    \n",
        "    length = 16\n",
        "    overlapsize = length//2\n",
        "    n = y1.size    \n",
        " \n",
        "    \n",
        "    Xt = np.array(X1)\n",
        "    yt= np.array(y1).reshape(-1,1)\n",
        "\n",
        "    # for over the 263920  310495in jumps of 64\n",
        "    for i in range(0, n , length-overlapsize):\n",
        "        # grab from i to i+length\n",
        "        sample_x = Xt[i:i+length,:]\n",
        "        if (np.array(sample_x).shape[0]) == length: \n",
        "            X_samples.append(sample_x)\n",
        "\n",
        "        sample_y = yt[i:i+length]\n",
        "        if (np.array(sample_y).shape[0]) == length:\n",
        "            y_samples.append(sample_y)\n",
        "\n",
        "    return np.array(X_samples),  np.array(y_samples)"
      ]
    },
    {
      "cell_type": "code",
      "execution_count": null,
      "metadata": {
        "id": "LKnWzqjh6xrG"
      },
      "outputs": [],
      "source": [
        "#'for the label Select the maximum occuring value in the given array'\n",
        "def max_occuring_label(sample):\n",
        "    values, counts = np.unique(sample, return_counts=True)\n",
        "    ind = np.argmax(counts)\n",
        "    \n",
        "    return values[ind] \n",
        "\n",
        "#'Creating y_sample label by taking only the maximum'\n",
        "\n",
        "def label_y(y_value):\n",
        "    y_samples_1 = []\n",
        "    for i in range(len(y_value)):\n",
        "        y_samples_1.append(max_occuring_label(y_value[i]))\n",
        "        \n",
        "    return np.array( y_samples_1 ).reshape(-1,1)"
      ]
    },
    {
      "cell_type": "code",
      "execution_count": null,
      "metadata": {
        "id": "G5HZbqTL8HRZ",
        "colab": {
          "base_uri": "https://localhost:8080/"
        },
        "outputId": "ee1bc60d-05e5-4b21-bac8-cadf05ffb159"
      },
      "outputs": [
        {
          "output_type": "stream",
          "name": "stdout",
          "text": [
            "Shape of dataset: (11796, 16, 53)\n",
            "Max Label: 3\n"
          ]
        }
      ],
      "source": [
        "\"\"\"TODO:Change window size ->change in accuracy\"\"\"\n",
        "\n",
        "X_samples, y_samples = window(X, y)\n",
        "print(\"Shape of dataset:\",X_samples.shape) # Shape dependent on window size -> We can tinker with these values\n",
        "max_label=max_occuring_label(y_samples)\n",
        "print(\"Max Label:\",max_label) #3 corresponds to D\n",
        "#print(y_samples)"
      ]
    },
    {
      "cell_type": "code",
      "execution_count": null,
      "metadata": {
        "id": "Y9Kzz2Mu7FCP"
      },
      "outputs": [],
      "source": [
        "# Splitting the dataset into test and train\n",
        "from sklearn.model_selection import train_test_split\n",
        "# from keras.utils import to_categorical \n",
        "from tensorflow.keras.utils import to_categorical\n",
        "\"\"\" to_categorical -> Converts the dataset into \n",
        "matrix which has binary values and has columns equal \n",
        "to the number of categories in the data.\"\"\"\n",
        "\n",
        "\n",
        "def rnn_dimension(X,y):\n",
        "    X_samples, y_samples = window(X, y)\n",
        "    y_samples = label_y(y_samples)\n",
        "\n",
        "    #Shuffling \n",
        "    from sklearn.utils import shuffle\n",
        "    X_samples,  y_samples = shuffle(X_samples, y_samples)\n",
        "\n",
        "    # to catagory\n",
        "    y_samples_cat = to_categorical(y_samples)\n",
        "\n",
        "\n",
        "    X_train_rnn, X_test_rnn, y_train_rnn, y_test_rnn =train_test_split(X_samples, y_samples_cat, train_size=0.85)\n",
        "    X_train,  y_train = shuffle(X_train_rnn, y_train_rnn)\n",
        "    \n",
        "    return X_train, y_train, X_test_rnn, y_test_rnn"
      ]
    },
    {
      "cell_type": "code",
      "execution_count": null,
      "metadata": {
        "id": "umcg0JmD7Qad"
      },
      "outputs": [],
      "source": [
        "X_train_5,y_train_5, X_test_5,y_test_5 = rnn_dimension(X,y)"
      ]
    },
    {
      "cell_type": "code",
      "execution_count": null,
      "metadata": {
        "id": "zjwndhTf-asN",
        "colab": {
          "base_uri": "https://localhost:8080/"
        },
        "outputId": "dfae2e6e-89fc-4f9c-d2c6-a3274ea51e60"
      },
      "outputs": [
        {
          "output_type": "stream",
          "name": "stdout",
          "text": [
            "Train X shape (10026, 16, 53)\n",
            "Train Y shape (10026, 10)\n",
            "Test X shape (1770, 16, 53)\n",
            "Test Y shape (1770, 10)\n"
          ]
        }
      ],
      "source": [
        "print(\"Train X shape\",X_train_5.shape)\n",
        "print(\"Train Y shape\",y_train_5.shape)\n",
        "print(\"Test X shape\",X_test_5.shape)\n",
        "print(\"Test Y shape\",y_test_5.shape)"
      ]
    },
    {
      "cell_type": "code",
      "execution_count": null,
      "metadata": {
        "id": "rFugKpcJ-fVc",
        "colab": {
          "base_uri": "https://localhost:8080/"
        },
        "outputId": "bb6f91b2-afda-4592-915b-6213f4580109"
      },
      "outputs": [
        {
          "output_type": "execute_result",
          "data": {
            "text/plain": [
              "[name: \"/device:CPU:0\"\n",
              " device_type: \"CPU\"\n",
              " memory_limit: 268435456\n",
              " locality {\n",
              " }\n",
              " incarnation: 9044549539258377225\n",
              " xla_global_id: -1]"
            ]
          },
          "metadata": {},
          "execution_count": 53
        }
      ],
      "source": [
        "#List the available devices available in the local process ->CPU\n",
        "\n",
        "\"\"\"TODO: Use GPU if training is too slow\"\"\"\n",
        "device_lib.list_local_devices()"
      ]
    },
    {
      "cell_type": "code",
      "execution_count": null,
      "metadata": {
        "id": "NE0QXBKD_cDs"
      },
      "outputs": [],
      "source": [
        "#Normalizing the features\n",
        "def normalizing(X_test):\n",
        "            \n",
        "            dim1=X_test.shape[1]\n",
        "            dim2=X_test.shape[2]\n",
        "\n",
        "            X_test_2d = X_test.reshape(-1,dim2)\n",
        "            scale = StandardScaler()\n",
        "            scale.fit(X_test_2d)\n",
        "\n",
        "            X_test_scaled = scale.transform(X_test_2d)\n",
        "            X_test_scaled = X_test_scaled.reshape(-1,dim1,dim2)\n",
        "\n",
        "            return X_test_scaled"
      ]
    },
    {
      "cell_type": "code",
      "execution_count": null,
      "metadata": {
        "id": "4nSREJU0AtYr"
      },
      "outputs": [],
      "source": [
        "# This commented part denotes the preexisting model conditions\n",
        "# clean_model = load_model('/content/Deep-LSTM-for-Driver-Identification-/Model_clean_binary_cross_ICTAI_vehicle2_1')"
      ]
    },
    {
      "cell_type": "code",
      "execution_count": null,
      "metadata": {
        "id": "PyIOpwsRA0Nb"
      },
      "outputs": [],
      "source": [
        "# X_test_normalized = normalizing(X_test_5)\n",
        "# score = clean_model.evaluate(X_test_normalized, y_test_5, batch_size=50)\n",
        "# print('Test loss:', score[0])\n",
        "# print('Test accuracy:', score[1])"
      ]
    },
    {
      "cell_type": "code",
      "execution_count": null,
      "metadata": {
        "id": "9URwxTUTB52c"
      },
      "outputs": [],
      "source": [
        "anomality_level = [0,0.25,0.5,0.75,1,1.25,1.5,1.75,2]"
      ]
    },
    {
      "cell_type": "code",
      "execution_count": null,
      "metadata": {
        "id": "8eP8GnWY2iQ8"
      },
      "outputs": [],
      "source": [
        "def normalizing_2d(X):              \n",
        "           \n",
        "            scale = StandardScaler()\n",
        "            scale.fit(X)\n",
        "\n",
        "            X = scale.transform(X)\n",
        "            \n",
        "            return X"
      ]
    },
    {
      "cell_type": "code",
      "execution_count": null,
      "metadata": {
        "id": "zLVazsCX21gI"
      },
      "outputs": [],
      "source": [
        "def anomality_2d(X, anomaly): \n",
        "\n",
        "    X = np.array(X).reshape(-1,53 )\n",
        "    mask = np.random.choice( X.shape[0], int(len(X)* .4), replace=False)\n",
        "\n",
        "    # orgi_data[mask].shape\n",
        "\n",
        "    X[mask] = X[mask]+X[mask]*anomaly\n",
        "\n",
        "    return X"
      ]
    },
    {
      "cell_type": "code",
      "execution_count": null,
      "metadata": {
        "id": "F8FbI0Yw4m8b"
      },
      "outputs": [],
      "source": [
        "X_train, X_test, y_train, y_test =train_test_split(X, y, train_size=0.85,shuffle=False)"
      ]
    },
    {
      "cell_type": "code",
      "execution_count": null,
      "metadata": {
        "id": "_UWXy-aWBTZi"
      },
      "outputs": [],
      "source": [
        "from sklearn.preprocessing import LabelEncoder\n",
        "from tensorflow.keras.utils import to_categorical\n",
        "encoder = LabelEncoder()\n",
        "encoder.fit(y)\n",
        "y_dummy = encoder.transform(y)\n",
        "y_dummy = to_categorical(y_dummy)"
      ]
    },
    {
      "cell_type": "code",
      "execution_count": null,
      "metadata": {
        "id": "1yzKpTLO4vay"
      },
      "outputs": [],
      "source": [
        "from tensorflow.keras.utils import to_categorical\n",
        "from sklearn.preprocessing import StandardScaler\n",
        "#y_dummy = to_categorical(y)\n",
        "\n",
        "from keras.models import Sequential\n",
        "from keras.layers import Dense\n",
        "from sklearn.utils import shuffle\n",
        "from keras import layers\n",
        "from sklearn.model_selection import train_test_split\n",
        "\n",
        "X_train, X_test, y_train, y_test = train_test_split(X, y_dummy, train_size=0.85)\n",
        "\n",
        "\n",
        "\n",
        "X_train_scaled = np.copy(normalizing_2d(X_train))\n",
        "\n",
        "X_train, X_test_, y_train, y_test_ =train_test_split(X_train_scaled, y_train, train_size=0.99)\n",
        "X_train,  y_train = shuffle(X_train, y_train)"
      ]
    },
    {
      "cell_type": "markdown",
      "source": [
        "### Training the Model"
      ],
      "metadata": {
        "id": "uGdWMQqzGHF_"
      }
    },
    {
      "cell_type": "code",
      "execution_count": null,
      "metadata": {
        "id": "M39vz7AC5mKB",
        "colab": {
          "base_uri": "https://localhost:8080/"
        },
        "outputId": "f2a64ce3-fcdb-4016-8922-d3b868fe5a9e"
      },
      "outputs": [
        {
          "output_type": "stream",
          "name": "stdout",
          "text": [
            "Epoch 1/20\n",
            "1589/1589 [==============================] - 8s 4ms/step - loss: 1.1671 - accuracy: 0.5726 - precision: 0.7568 - recall: 0.4132 - recall_1: 0.4132\n",
            "Epoch 2/20\n",
            "1589/1589 [==============================] - 6s 4ms/step - loss: 0.6021 - accuracy: 0.7758 - precision: 0.8384 - recall: 0.7032 - recall_1: 0.7032\n",
            "Epoch 3/20\n",
            "1589/1589 [==============================] - 6s 4ms/step - loss: 0.4601 - accuracy: 0.8278 - precision: 0.8672 - recall: 0.7869 - recall_1: 0.7869\n",
            "Epoch 4/20\n",
            "1589/1589 [==============================] - 6s 4ms/step - loss: 0.3884 - accuracy: 0.8558 - precision: 0.8829 - recall: 0.8278 - recall_1: 0.8278\n",
            "Epoch 5/20\n",
            "1589/1589 [==============================] - 7s 4ms/step - loss: 0.3483 - accuracy: 0.8727 - precision: 0.8940 - recall: 0.8504 - recall_1: 0.8504\n",
            "Epoch 6/20\n",
            "1589/1589 [==============================] - 6s 4ms/step - loss: 0.3099 - accuracy: 0.8873 - precision: 0.9057 - recall: 0.8697 - recall_1: 0.8697\n",
            "Epoch 7/20\n",
            "1589/1589 [==============================] - 6s 4ms/step - loss: 0.2834 - accuracy: 0.8989 - precision: 0.9144 - recall: 0.8838 - recall_1: 0.8838\n",
            "Epoch 8/20\n",
            "1589/1589 [==============================] - 6s 4ms/step - loss: 0.2570 - accuracy: 0.9072 - precision: 0.9208 - recall: 0.8942 - recall_1: 0.8942\n",
            "Epoch 9/20\n",
            "1589/1589 [==============================] - 7s 4ms/step - loss: 0.2317 - accuracy: 0.9164 - precision: 0.9278 - recall: 0.9053 - recall_1: 0.9053\n",
            "Epoch 10/20\n",
            "1589/1589 [==============================] - 9s 6ms/step - loss: 0.2245 - accuracy: 0.9193 - precision: 0.9299 - recall: 0.9097 - recall_1: 0.9097\n",
            "Epoch 11/20\n",
            "1589/1589 [==============================] - 6s 4ms/step - loss: 0.2128 - accuracy: 0.9234 - precision: 0.9325 - recall: 0.9143 - recall_1: 0.9143\n",
            "Epoch 12/20\n",
            "1589/1589 [==============================] - 7s 4ms/step - loss: 0.2053 - accuracy: 0.9263 - precision: 0.9352 - recall: 0.9180 - recall_1: 0.9180\n",
            "Epoch 13/20\n",
            "1589/1589 [==============================] - 7s 4ms/step - loss: 0.1950 - accuracy: 0.9295 - precision: 0.9382 - recall: 0.9218 - recall_1: 0.9218\n",
            "Epoch 14/20\n",
            "1589/1589 [==============================] - 6s 4ms/step - loss: 0.1890 - accuracy: 0.9315 - precision: 0.9392 - recall: 0.9248 - recall_1: 0.9248\n",
            "Epoch 15/20\n",
            "1589/1589 [==============================] - 7s 4ms/step - loss: 0.1811 - accuracy: 0.9344 - precision: 0.9417 - recall: 0.9283 - recall_1: 0.9283\n",
            "Epoch 16/20\n",
            "1589/1589 [==============================] - 7s 4ms/step - loss: 0.1781 - accuracy: 0.9367 - precision: 0.9437 - recall: 0.9302 - recall_1: 0.9302\n",
            "Epoch 17/20\n",
            "1589/1589 [==============================] - 7s 4ms/step - loss: 0.1761 - accuracy: 0.9374 - precision: 0.9445 - recall: 0.9313 - recall_1: 0.9313\n",
            "Epoch 18/20\n",
            "1589/1589 [==============================] - 7s 4ms/step - loss: 0.1649 - accuracy: 0.9426 - precision: 0.9488 - recall: 0.9365 - recall_1: 0.9365\n",
            "Epoch 19/20\n",
            "1589/1589 [==============================] - 6s 4ms/step - loss: 0.1638 - accuracy: 0.9419 - precision: 0.9480 - recall: 0.9365 - recall_1: 0.9365\n",
            "Epoch 20/20\n",
            "1589/1589 [==============================] - 6s 4ms/step - loss: 0.1556 - accuracy: 0.9451 - precision: 0.9503 - recall: 0.9396 - recall_1: 0.9396\n"
          ]
        }
      ],
      "source": [
        "mlp = Sequential()\n",
        "mlp.add(Dense(160, input_dim=X_train.shape[1], activation='relu'))\n",
        "mlp.add(layers.BatchNormalization())\n",
        "mlp.add(layers.Dropout(0.5))\n",
        "mlp.add(Dense(120, activation='relu'))\n",
        "mlp.add(layers.BatchNormalization())\n",
        "mlp.add(Dense(y_test.shape[1], activation='softmax'))\n",
        "#mlp.add(Dense(1,activation='sigmoid'))\n",
        "# mlp.compile(loss='binary_crossentropy', optimizer='adam', metrics=['accuracy'])\n",
        "mlp.compile(loss='categorical_crossentropy', optimizer='adam', metrics=['accuracy','Precision','Recall','Recall'])\n",
        "os.environ[\"CUDA_VISIBLE_DEVICES\"] = \"0\"\n",
        "with tf.device('/GPU:0'):\n",
        "    mlp_history = mlp.fit(X_train,y_train, epochs=20,batch_size=50, shuffle=True)"
      ]
    },
    {
      "cell_type": "markdown",
      "source": [
        "Testing accuracy of dataset on Nomralized test set"
      ],
      "metadata": {
        "id": "nahxgKEmGYl5"
      }
    },
    {
      "cell_type": "code",
      "execution_count": null,
      "metadata": {
        "id": "YtBW4uUBK_n-",
        "colab": {
          "base_uri": "https://localhost:8080/"
        },
        "outputId": "f93b4ca6-425e-421d-867b-856306f97551"
      },
      "outputs": [
        {
          "output_type": "stream",
          "name": "stdout",
          "text": [
            "284/284 [==============================] - 1s 2ms/step - loss: 0.0597 - accuracy: 0.9863 - precision: 0.9883 - recall: 0.9850 - recall_1: 0.9850\n",
            "[0.0597495436668396, 0.986296534538269, 0.9883053302764893, 0.9849544167518616, 0.9849544167518616]\n",
            "Test loss: 0.0597495436668396\n",
            "Test accuracy: 0.986296534538269\n",
            "Test precision: 0.9883053302764893\n",
            "Test Recall: 0.9849544167518616\n",
            "Test F1 Score 0.9849544167518616\n"
          ]
        }
      ],
      "source": [
        "X_test_normalized = normalizing_2d(X_test)\n",
        "\n",
        "\n",
        "score = mlp.evaluate(X_test_normalized, y_test, batch_size=50)\n",
        "print(score)\n",
        "print('Test loss:', score[0])\n",
        "print('Test accuracy:', score[1])\n",
        "print('Test precision:', score[2])\n",
        "print('Test Recall:',score[3])\n",
        "print('Test F1 Score',score[4])"
      ]
    },
    {
      "cell_type": "code",
      "execution_count": null,
      "metadata": {
        "id": "r_jr9xppSXD0",
        "colab": {
          "base_uri": "https://localhost:8080/"
        },
        "outputId": "7134b916-b201-4c42-fb72-3745363b0176"
      },
      "outputs": [
        {
          "output_type": "execute_result",
          "data": {
            "text/plain": [
              "<function __main__.anomality_2d>"
            ]
          },
          "metadata": {},
          "execution_count": 65
        }
      ],
      "source": [
        "anomality_2d"
      ]
    },
    {
      "cell_type": "markdown",
      "source": [
        "### Adding noise to the Dataset"
      ],
      "metadata": {
        "id": "GOcwSSC5GiTr"
      }
    },
    {
      "cell_type": "code",
      "execution_count": null,
      "metadata": {
        "id": "l4XjbybaPOXv"
      },
      "outputs": [],
      "source": [
        "def mlp_acc_test(X_test, y_test):\n",
        "    acc_noise_test = []\n",
        "    acc_noise_test_rf_box = []\n",
        "    \n",
        "    # anomality_level = [0,0.2,0.4,0.6,0.8,1]\n",
        "        \n",
        "    for anomal in anomality_level:      \n",
        "\n",
        "        i = 0\n",
        "        iter_score = []\n",
        "        while i < 5:\n",
        "            X_test_anomal = np.copy(anomality_2d(X_test, anomal))\n",
        "            X_test_normalized = normalizing_2d(X_test_anomal)\n",
        "\n",
        "\n",
        "            score_1 = mlp.evaluate(X_test_normalized, y_test, batch_size=50)\n",
        "            iter_score.append(score_1[1])\n",
        "            i += 1\n",
        "#             print(i)\n",
        "  \n",
        "        dif = max(iter_score) - min(iter_score) \n",
        "        score_2 = sum(iter_score)/len(iter_score)\n",
        "        acc_noise_test.append(score_2)\n",
        "        print('Avg Test loss:', score_2)\n",
        "        print('Avg Test accuracy:', score_2)\n",
        "        acc_noise_test_rf_box.append(dif)\n",
        "\n",
        "    return acc_noise_test, acc_noise_test_rf_box"
      ]
    },
    {
      "cell_type": "code",
      "execution_count": null,
      "metadata": {
        "id": "krGXEGbYT9-J",
        "colab": {
          "base_uri": "https://localhost:8080/"
        },
        "outputId": "4aafa81d-380b-4f48-a422-694bfe306a8a"
      },
      "outputs": [
        {
          "output_type": "stream",
          "name": "stdout",
          "text": [
            "284/284 [==============================] - 1s 3ms/step - loss: 0.0597 - accuracy: 0.9863 - precision: 0.9883 - recall: 0.9850 - recall_1: 0.9850\n",
            "[0.0597495436668396, 0.986296534538269, 0.9883053302764893, 0.9849544167518616, 0.9849544167518616]\n",
            "Test loss: 0.0597495436668396\n",
            "Test accuracy: 0.986296534538269\n",
            "Test precision: 0.9883053302764893\n",
            "Test Recall: 0.9849544167518616\n",
            "Test F1 Score 0.9849544167518616\n"
          ]
        }
      ],
      "source": [
        "X_test_normalized = normalizing_2d(X_test)\n",
        "\n",
        "\n",
        "score = mlp.evaluate(X_test_normalized, y_test, batch_size=50)\n",
        "print(score)\n",
        "print('Test loss:', score[0])\n",
        "print('Test accuracy:', score[1])\n",
        "print('Test precision:', score[2])\n",
        "print('Test Recall:',score[3])\n",
        "print('Test F1 Score',score[4])"
      ]
    },
    {
      "cell_type": "code",
      "execution_count": null,
      "metadata": {
        "id": "47EassVzRhb8",
        "colab": {
          "base_uri": "https://localhost:8080/",
          "height": 1000
        },
        "outputId": "8cbfc13d-9d3c-46aa-deac-7bed2031b186"
      },
      "outputs": [
        {
          "output_type": "stream",
          "name": "stdout",
          "text": [
            "284/284 [==============================] - 1s 2ms/step - loss: 0.0597 - accuracy: 0.9863 - precision: 0.9883 - recall: 0.9850 - recall_1: 0.9850\n",
            "284/284 [==============================] - 1s 2ms/step - loss: 0.0597 - accuracy: 0.9863 - precision: 0.9883 - recall: 0.9850 - recall_1: 0.9850\n",
            "284/284 [==============================] - 1s 3ms/step - loss: 0.0597 - accuracy: 0.9863 - precision: 0.9883 - recall: 0.9850 - recall_1: 0.9850\n",
            "284/284 [==============================] - 1s 3ms/step - loss: 0.0597 - accuracy: 0.9863 - precision: 0.9883 - recall: 0.9850 - recall_1: 0.9850\n",
            "284/284 [==============================] - 1s 3ms/step - loss: 0.0597 - accuracy: 0.9863 - precision: 0.9883 - recall: 0.9850 - recall_1: 0.9850\n",
            "Avg Test loss: 0.986296534538269\n",
            "Avg Test accuracy: 0.986296534538269\n",
            "284/284 [==============================] - 1s 2ms/step - loss: 5.7949 - accuracy: 0.3610 - precision: 0.3677 - recall: 0.3555 - recall_1: 0.3555\n",
            "284/284 [==============================] - 1s 2ms/step - loss: 5.7864 - accuracy: 0.3619 - precision: 0.3693 - recall: 0.3563 - recall_1: 0.3563\n",
            "284/284 [==============================] - 1s 3ms/step - loss: 5.8308 - accuracy: 0.3615 - precision: 0.3680 - recall: 0.3557 - recall_1: 0.3557\n",
            "284/284 [==============================] - 1s 2ms/step - loss: 5.7761 - accuracy: 0.3654 - precision: 0.3716 - recall: 0.3590 - recall_1: 0.3590\n",
            "284/284 [==============================] - 1s 3ms/step - loss: 5.7971 - accuracy: 0.3621 - precision: 0.3688 - recall: 0.3563 - recall_1: 0.3563\n",
            "Avg Test loss: 0.36239317059516907\n",
            "Avg Test accuracy: 0.36239317059516907\n",
            "284/284 [==============================] - 1s 2ms/step - loss: 7.8977 - accuracy: 0.2725 - precision: 0.2753 - recall: 0.2679 - recall_1: 0.2679\n",
            "284/284 [==============================] - 1s 2ms/step - loss: 7.9111 - accuracy: 0.2729 - precision: 0.2750 - recall: 0.2673 - recall_1: 0.2673\n",
            "284/284 [==============================] - 1s 2ms/step - loss: 7.9078 - accuracy: 0.2717 - precision: 0.2743 - recall: 0.2664 - recall_1: 0.2664\n",
            "284/284 [==============================] - 1s 2ms/step - loss: 7.9195 - accuracy: 0.2736 - precision: 0.2757 - recall: 0.2683 - recall_1: 0.2683\n",
            "284/284 [==============================] - 1s 2ms/step - loss: 7.9400 - accuracy: 0.2750 - precision: 0.2766 - recall: 0.2693 - recall_1: 0.2693\n",
            "Avg Test loss: 0.2731369614601135\n",
            "Avg Test accuracy: 0.2731369614601135\n",
            "284/284 [==============================] - 1s 2ms/step - loss: 8.8449 - accuracy: 0.2382 - precision: 0.2393 - recall: 0.2335 - recall_1: 0.2335\n",
            "284/284 [==============================] - 1s 3ms/step - loss: 8.7540 - accuracy: 0.2450 - precision: 0.2465 - recall: 0.2404 - recall_1: 0.2404\n",
            "284/284 [==============================] - 1s 3ms/step - loss: 8.7788 - accuracy: 0.2394 - precision: 0.2418 - recall: 0.2356 - recall_1: 0.2356\n",
            "284/284 [==============================] - 1s 2ms/step - loss: 8.8121 - accuracy: 0.2382 - precision: 0.2403 - recall: 0.2337 - recall_1: 0.2337\n",
            "284/284 [==============================] - 1s 2ms/step - loss: 8.6751 - accuracy: 0.2455 - precision: 0.2471 - recall: 0.2407 - recall_1: 0.2407\n",
            "Avg Test loss: 0.24126580655574797\n",
            "Avg Test accuracy: 0.24126580655574797\n",
            "284/284 [==============================] - 1s 2ms/step - loss: 9.1990 - accuracy: 0.2216 - precision: 0.2239 - recall: 0.2175 - recall_1: 0.2175\n",
            "284/284 [==============================] - 1s 2ms/step - loss: 9.1548 - accuracy: 0.2242 - precision: 0.2259 - recall: 0.2197 - recall_1: 0.2197\n",
            "284/284 [==============================] - 1s 2ms/step - loss: 9.1687 - accuracy: 0.2255 - precision: 0.2278 - recall: 0.2216 - recall_1: 0.2216\n",
            "284/284 [==============================] - 1s 2ms/step - loss: 9.1363 - accuracy: 0.2272 - precision: 0.2290 - recall: 0.2230 - recall_1: 0.2230\n",
            "284/284 [==============================] - 1s 2ms/step - loss: 9.1838 - accuracy: 0.2279 - precision: 0.2299 - recall: 0.2242 - recall_1: 0.2242\n",
            "Avg Test loss: 0.2252737134695053\n",
            "Avg Test accuracy: 0.2252737134695053\n",
            "284/284 [==============================] - 1s 2ms/step - loss: 9.3686 - accuracy: 0.2135 - precision: 0.2132 - recall: 0.2076 - recall_1: 0.2076\n",
            "284/284 [==============================] - 1s 2ms/step - loss: 9.3696 - accuracy: 0.2160 - precision: 0.2157 - recall: 0.2104 - recall_1: 0.2104\n",
            "284/284 [==============================] - 1s 2ms/step - loss: 9.4702 - accuracy: 0.2100 - precision: 0.2096 - recall: 0.2045 - recall_1: 0.2045\n",
            "284/284 [==============================] - 1s 3ms/step - loss: 9.3972 - accuracy: 0.2165 - precision: 0.2158 - recall: 0.2101 - recall_1: 0.2101\n",
            "284/284 [==============================] - 1s 3ms/step - loss: 9.4655 - accuracy: 0.2123 - precision: 0.2119 - recall: 0.2063 - recall_1: 0.2063\n",
            "Avg Test loss: 0.21367521584033966\n",
            "Avg Test accuracy: 0.21367521584033966\n",
            "284/284 [==============================] - 1s 2ms/step - loss: 9.6431 - accuracy: 0.1994 - precision: 0.1987 - recall: 0.1931 - recall_1: 0.1931\n",
            "284/284 [==============================] - 1s 2ms/step - loss: 9.6868 - accuracy: 0.1969 - precision: 0.1966 - recall: 0.1912 - recall_1: 0.1912\n",
            "284/284 [==============================] - 1s 2ms/step - loss: 9.6389 - accuracy: 0.1991 - precision: 0.1981 - recall: 0.1924 - recall_1: 0.1924\n",
            "284/284 [==============================] - 1s 2ms/step - loss: 9.6545 - accuracy: 0.1993 - precision: 0.1991 - recall: 0.1930 - recall_1: 0.1930\n",
            "284/284 [==============================] - 1s 2ms/step - loss: 9.5881 - accuracy: 0.2041 - precision: 0.2035 - recall: 0.1981 - recall_1: 0.1981\n",
            "Avg Test loss: 0.19974570572376252\n",
            "Avg Test accuracy: 0.19974570572376252\n",
            "284/284 [==============================] - 1s 2ms/step - loss: 9.8945 - accuracy: 0.1898 - precision: 0.1884 - recall: 0.1834 - recall_1: 0.1834\n",
            "284/284 [==============================] - 1s 2ms/step - loss: 9.8721 - accuracy: 0.1881 - precision: 0.1865 - recall: 0.1815 - recall_1: 0.1815\n",
            "284/284 [==============================] - 1s 2ms/step - loss: 9.8289 - accuracy: 0.1948 - precision: 0.1941 - recall: 0.1889 - recall_1: 0.1889\n",
            "284/284 [==============================] - 1s 3ms/step - loss: 9.7550 - accuracy: 0.1919 - precision: 0.1911 - recall: 0.1858 - recall_1: 0.1858\n",
            "284/284 [==============================] - 1s 3ms/step - loss: 9.8218 - accuracy: 0.1906 - precision: 0.1890 - recall: 0.1839 - recall_1: 0.1839\n",
            "Avg Test loss: 0.19105742871761322\n",
            "Avg Test accuracy: 0.19105742871761322\n",
            "284/284 [==============================] - 1s 2ms/step - loss: 9.9013 - accuracy: 0.1856 - precision: 0.1847 - recall: 0.1794 - recall_1: 0.1794\n",
            "284/284 [==============================] - 1s 2ms/step - loss: 9.9965 - accuracy: 0.1852 - precision: 0.1847 - recall: 0.1796 - recall_1: 0.1796\n",
            "284/284 [==============================] - 1s 2ms/step - loss: 9.9473 - accuracy: 0.1849 - precision: 0.1840 - recall: 0.1786 - recall_1: 0.1786\n",
            "284/284 [==============================] - 1s 2ms/step - loss: 9.8988 - accuracy: 0.1858 - precision: 0.1844 - recall: 0.1789 - recall_1: 0.1789\n",
            "284/284 [==============================] - 1s 2ms/step - loss: 9.9979 - accuracy: 0.1824 - precision: 0.1818 - recall: 0.1762 - recall_1: 0.1762\n",
            "Avg Test loss: 0.18478491008281708\n",
            "Avg Test accuracy: 0.18478491008281708\n",
            "[0.986296534538269, 0.36239317059516907, 0.2731369614601135, 0.24126580655574797, 0.2252737134695053, 0.21367521584033966, 0.19974570572376252, 0.19105742871761322, 0.18478491008281708]\n"
          ]
        },
        {
          "output_type": "display_data",
          "data": {
            "text/plain": [
              "<Figure size 432x288 with 1 Axes>"
            ],
            "image/png": "[encoded data removed]"
          },
          "metadata": {}
        }
      ],
      "source": [
        "mlp_noise_acc, mlp_noise_acc_box  = mlp_acc_test(X_test,y_test)\n",
        "acc_mlp = []\n",
        "\n",
        "\n",
        "for n in range(len(mlp_noise_acc)):\n",
        "    acc_mlp.append(mlp_noise_acc[n])\n",
        "    \n",
        "# plt.plot(noise_sig,acc_mlp)\n",
        "plt.plot(anomality_level,acc_mlp)\n",
        "plt.errorbar(anomality_level,acc_mlp, mlp_noise_acc_box, fmt='.k', color='black',\n",
        "             ecolor='red', elinewidth=3, capsize=0)\n",
        "\n",
        "print(acc_mlp)"
      ]
    },
    {
      "cell_type": "code",
      "execution_count": null,
      "metadata": {
        "id": "d9J2aa_jRl1E",
        "colab": {
          "base_uri": "https://localhost:8080/",
          "height": 615
        },
        "outputId": "78389341-2376-4ddb-b9cb-bede34476ea5"
      },
      "outputs": [
        {
          "output_type": "stream",
          "name": "stdout",
          "text": [
            "Avg Test loss: 0.9784558875467967\n",
            "Avg Test accuracy: 0.9784558875467967\n",
            "Avg Test loss: 0.6025711662075299\n",
            "Avg Test accuracy: 0.6025711662075299\n",
            "Avg Test loss: 0.34508723599632696\n",
            "Avg Test accuracy: 0.34508723599632696\n",
            "Avg Test loss: 0.3367026912481458\n",
            "Avg Test accuracy: 0.3367026912481458\n",
            "Avg Test loss: 0.24026983117892212\n",
            "Avg Test accuracy: 0.24026983117892212\n",
            "Avg Test loss: 0.2065974429610793\n",
            "Avg Test accuracy: 0.2065974429610793\n",
            "Avg Test loss: 0.19639047820866004\n",
            "Avg Test accuracy: 0.19639047820866004\n",
            "Avg Test loss: 0.19427844882390338\n",
            "Avg Test accuracy: 0.19427844882390338\n",
            "Avg Test loss: 0.16268983541710816\n",
            "Avg Test accuracy: 0.16268983541710816\n",
            "[0.9784558875467967, 0.6025711662075299, 0.34508723599632696, 0.3367026912481458, 0.24026983117892212, 0.2065974429610793, 0.19639047820866004, 0.19427844882390338, 0.16268983541710816]\n"
          ]
        },
        {
          "output_type": "execute_result",
          "data": {
            "text/plain": [
              "<ErrorbarContainer object of 3 artists>"
            ]
          },
          "metadata": {},
          "execution_count": 69
        },
        {
          "output_type": "display_data",
          "data": {
            "text/plain": [
              "<Figure size 432x288 with 1 Axes>"
            ],
            "image/png": "[encoded data removed]"
          },
          "metadata": {}
        }
      ],
      "source": [
        "from sklearn.model_selection import train_test_split\n",
        "\n",
        "X_train, X_test, y_train, y_test =train_test_split(X, y, train_size=0.85)\n",
        "\n",
        "X_train_scaled = np.copy(normalizing_2d(X_train))\n",
        "\n",
        "\n",
        "from sklearn.metrics import classification_report, confusion_matrix  \n",
        "from sklearn.tree import DecisionTreeClassifier \n",
        "from sklearn import metrics\n",
        "\n",
        "\n",
        "\n",
        "def acc_noise_test_dt(X_train, y_train ,X_test , y_test):\n",
        "    \n",
        "    dt = DecisionTreeClassifier()\n",
        "    dt.fit(X_train,y_train)\n",
        "\n",
        "    acc_noise_test_dt = []\n",
        "    acc_noise_test_rf_box = []\n",
        "\n",
        "    for anomal in anomality_level:\n",
        "       \n",
        "        iter_score=[]\n",
        "        for i in range(10):\n",
        "            \n",
        "            X_test_anomal = np.copy(anomality_2d(X_test, anomal))\n",
        "            X_test_normalized = normalizing_2d(X_test_anomal)\n",
        "           \n",
        "\n",
        "            'Decision Tree'\n",
        "            y_pred_dt = dt.predict(X_test_normalized)   \n",
        "            acc_n = metrics.accuracy_score(y_test, y_pred_dt)\n",
        "            \n",
        "            iter_score.append(acc_n)\n",
        "            \n",
        "        dif = max(iter_score) - min(iter_score)    \n",
        "        score_2 = sum(iter_score)/len(iter_score)\n",
        "        acc_noise_test_dt.append(score_2)\n",
        "        print('Avg Test loss:', score_2)\n",
        "        print('Avg Test accuracy:', score_2)\n",
        "        acc_noise_test_rf_box.append(dif)\n",
        "            \n",
        "\n",
        "        \n",
        "    return  acc_noise_test_dt, acc_noise_test_rf_box\n",
        "\n",
        "\n",
        "dt_noise_acc,dt_noise_acc_box = acc_noise_test_dt(X_train_scaled, y_train, X_test, y_test)\n",
        "acc_dt = []\n",
        "# anomality_level = [0,0.2,0.4,0.6,0.8,1]\n",
        "for n in range(len(dt_noise_acc)):\n",
        "    acc_dt.append(dt_noise_acc[n])\n",
        "\n",
        "\n",
        "print(acc_dt)\n",
        "plt.plot(anomality_level,acc_dt)\n",
        "plt.errorbar(anomality_level,acc_dt, dt_noise_acc_box, fmt='.k', color='black',\n",
        "             ecolor='red', elinewidth=3, capsize=0)\n"
      ]
    },
    {
      "cell_type": "code",
      "execution_count": null,
      "metadata": {
        "id": "aF8swGRbSHac",
        "colab": {
          "base_uri": "https://localhost:8080/",
          "height": 598
        },
        "outputId": "ab0674fa-f179-4347-ee81-1d7f2d0d3704"
      },
      "outputs": [
        {
          "output_type": "stream",
          "name": "stdout",
          "text": [
            "=\n",
            "0.991947446492901\n",
            "=\n",
            "0.6234301052482871\n",
            "=\n",
            "0.38531468531468527\n",
            "=\n",
            "0.33249982340891426\n",
            "=\n",
            "0.2707918344281981\n",
            "=\n",
            "0.23882178427632975\n",
            "=\n",
            "0.2205481387299569\n",
            "=\n",
            "0.2186409550045914\n",
            "=\n",
            "0.21188811188811188\n",
            "[0.991947446492901, 0.6234301052482871, 0.38531468531468527, 0.33249982340891426, 0.2707918344281981, 0.23882178427632975, 0.2205481387299569, 0.2186409550045914, 0.21188811188811188]\n"
          ]
        },
        {
          "output_type": "display_data",
          "data": {
            "text/plain": [
              "<Figure size 432x288 with 1 Axes>"
            ],
            "image/png": "[encoded data removed]"
          },
          "metadata": {}
        }
      ],
      "source": [
        "from sklearn.metrics import classification_report, confusion_matrix  \n",
        "from sklearn.ensemble import RandomForestClassifier\n",
        "from sklearn import metrics\n",
        "\n",
        "\n",
        "\n",
        "def acc_noise_test_rf(X_train, y_train ,X_test , y_test):\n",
        "    \n",
        "    rf = RandomForestClassifier(n_estimators=20)\n",
        "    rf.fit(X_train, y_train)\n",
        "\n",
        "    acc_noise_test_rf = []\n",
        "    acc_noise_test_rf_box = []\n",
        "    \n",
        "    for anomal in anomality_level:\n",
        "       \n",
        "        iter_score=[]\n",
        "        for i in range(10):\n",
        "            \n",
        "            X_test_anomal = np.copy(anomality_2d(X_test, anomal))\n",
        "            X_test_normalized = normalizing_2d(X_test_anomal)           \n",
        "\n",
        "        \n",
        "            'Random Forest'\n",
        "            y_pred_rf =rf.predict(X_test_normalized) \n",
        "            acc_n = metrics.accuracy_score(y_test, y_pred_rf)\n",
        "            iter_score.append(acc_n)\n",
        "#             print(acc_n)\n",
        "        \n",
        "        dif = max(iter_score) - min(iter_score)\n",
        "        acc_noise_test_rf_box.append(dif)\n",
        "        score_2 = sum(iter_score)/len(iter_score)\n",
        "        acc_noise_test_rf.append(score_2)\n",
        "        \n",
        "        print(\"=\")\n",
        "        print(score_2)\n",
        "        \n",
        "        \n",
        "    return (acc_noise_test_rf,acc_noise_test_rf_box)\n",
        "\n",
        "\n",
        "    \n",
        "rf_noise_acc, rf_noise_acc_box = acc_noise_test_rf(X_train_scaled, y_train, X_test, y_test)\n",
        "acc_rf = []\n",
        "for n in range(len(rf_noise_acc)):\n",
        "    acc_rf.append(rf_noise_acc[n])\n",
        "    \n",
        "# plt.plot(noise_sig,acc_rf,'or')\n",
        "# plt.plot()\n",
        "plt.plot(anomality_level,acc_rf)\n",
        "plt.errorbar(anomality_level,acc_rf, rf_noise_acc_box, fmt='.k', color='black',\n",
        "             ecolor='red', elinewidth=3, capsize=0)\n",
        "# plt.boxplot(noise_sig,rf_noise_acc_box)\n",
        "print(acc_rf)"
      ]
    },
    {
      "cell_type": "code",
      "execution_count": null,
      "metadata": {
        "id": "eIJofEx1byRE",
        "colab": {
          "base_uri": "https://localhost:8080/",
          "height": 299
        },
        "outputId": "3b7581e3-4094-4ae7-ab9a-f69d5e18a8dc"
      },
      "outputs": [
        {
          "output_type": "execute_result",
          "data": {
            "text/plain": [
              "<matplotlib.legend.Legend at 0x7f4457d6c2d0>"
            ]
          },
          "metadata": {},
          "execution_count": 77
        },
        {
          "output_type": "display_data",
          "data": {
            "text/plain": [
              "<Figure size 432x288 with 1 Axes>"
            ],
            "image/png": "[encoded data removed]"
          },
          "metadata": {}
        }
      ],
      "source": [
        "\n",
        "#mpl.style.use('seaborn-poster')\n",
        "fig2 = plt.figure()\n",
        "plt.axis([-0.07,.82,0,1.08])\n",
        "# anomality_level = [0,0.2,0.4,0.6,0.8,1]\n",
        "# noise_sig = anomality_level \n",
        "\n",
        "# plt.plot(anomality_level[:10],acc[:10], marker='^' ,label=\"LSTM\", linewidth=3.5)\n",
        "plt.plot(anomality_level[:10], acc_mlp[:10], marker='o', label=\"FCNN\", linewidth=3.5)\n",
        "plt.plot(anomality_level[:10],acc_dt[:10], marker='*', label=\"Decision Tree\", linewidth=3.5)\n",
        "plt.plot(anomality_level[:10],acc_rf[:10], marker='x', label=\"Random Forest\", linewidth=3.5)\n",
        "\n",
        "plt.xlabel(\"% of sensor anomalities induced in the data (*100)\" , fontsize=10)\n",
        "plt.ylabel(\"Accuracy\", fontsize=10)\n",
        "# plt.title(\"Accuracy on noisy data\")\n",
        "plt.legend(loc=3, fontsize=10)\n",
        "#plt.grid()"
      ]
    },
    {
      "cell_type": "code",
      "execution_count": null,
      "metadata": {
        "id": "gmGr9bxhb8of",
        "colab": {
          "base_uri": "https://localhost:8080/"
        },
        "outputId": "9024a783-47bb-4878-95c6-bbf1929f83b0"
      },
      "outputs": [
        {
          "output_type": "stream",
          "name": "stdout",
          "text": [
            "[0.31973660522037084, 0.36256033528760806, 0.3882092094213306]\n"
          ]
        }
      ],
      "source": [
        "average_acc_mlp=np.mean(acc_mlp)\n",
        "average_acc_dt=np.mean(acc_dt)\n",
        "average_acc_rf=np.mean(acc_rf)\n",
        "\n",
        "array=[average_acc_mlp,average_acc_dt,average_acc_rf]\n",
        "print(array)"
      ]
    },
    {
      "cell_type": "code",
      "source": [
        "# libraries\n",
        "import numpy as np\n",
        "import matplotlib.pyplot as plt\n",
        " \n",
        "# create a dataset\n",
        "height = [average_acc_mlp, average_acc_dt, average_acc_rf]\n",
        "bars = ('FCNN', 'Decision_Tree', 'Random_Forest')\n",
        "x_pos = np.arange(len(bars))\n",
        "\n",
        "import seaborn as sns\n",
        "sns.set_theme()\n",
        "sns.set_style(\"white\")\n",
        "\n",
        "# Create bars with different colors\n",
        "plt.bar(x_pos, height, color=['mediumslateblue', 'cornflowerblue', 'mediumturquoise'])\n",
        "\n",
        "# Create names on the x-axis\n",
        "plt.ylabel('Accuracy')\n",
        "plt.title(\"Average accuracy of Test Data on noise inflicted Security Driving Dataset \")\n",
        "plt.xticks(x_pos, bars)\n",
        "\n",
        "# Show graph\n",
        "plt.show()"
      ],
      "metadata": {
        "id": "r_zBjHUkN2Ji",
        "colab": {
          "base_uri": "https://localhost:8080/",
          "height": 285
        },
        "outputId": "0964637a-60d3-4d58-bf6b-0bf2383762a9"
      },
      "execution_count": null,
      "outputs": [
        {
          "output_type": "display_data",
          "data": {
            "text/plain": [
              "<Figure size 432x288 with 1 Axes>"
            ],
            "image/png": "[encoded data removed]"
          },
          "metadata": {}
        }
      ]
    },
    {
      "cell_type": "code",
      "source": [
        "import numpy as np\n",
        "import matplotlib.pyplot as plt\n",
        " \n",
        "# create a dataset\n",
        "height = [0.9696, 0.963, 0.972]\n",
        "bars = ('85%', '80%', '92%')\n",
        "x_pos = np.arange(len(bars))\n",
        "\n",
        "import seaborn as sns\n",
        "sns.set_theme()\n",
        "sns.set_style(\"white\")\n",
        "\n",
        "# Create bars with different colors\n",
        "plt.bar(x_pos, height, color=['mediumslateblue', 'cornflowerblue', 'mediumturquoise'])\n",
        "\n",
        "# Create names on the x-axis\n",
        "plt.ylabel('Test Accuracy')\n",
        "plt.title(\"Average accuracy of Test Data with changes in length of training data\")\n",
        "plt.xticks(x_pos, bars)\n",
        "\n",
        "# Show graph\n",
        "plt.show()"
      ],
      "metadata": {
        "id": "PsB4qYH7Qg-U",
        "colab": {
          "base_uri": "https://localhost:8080/",
          "height": 284
        },
        "outputId": "c8814fc4-3780-4d10-fa24-6a2dcef4526e"
      },
      "execution_count": null,
      "outputs": [
        {
          "output_type": "display_data",
          "data": {
            "text/plain": [
              "<Figure size 432x288 with 1 Axes>"
            ],
            "image/png": "[encoded data removed]"
          },
          "metadata": {}
        }
      ]
    }
  ],
  "metadata": {
    "colab": {
      "collapsed_sections": [],
      "name": "Reproducibility Project-Group 19.ipynb",
      "provenance": []
    },
    "kernelspec": {
      "display_name": "Python 3",
      "name": "python3"
    },
    "language_info": {
      "name": "python"
    }
  },
  "nbformat": 4,
  "nbformat_minor": 0
}